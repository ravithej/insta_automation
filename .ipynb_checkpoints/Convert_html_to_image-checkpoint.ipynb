{
 "cells": [
  {
   "cell_type": "code",
   "execution_count": 119,
   "metadata": {},
   "outputs": [
    {
     "name": "stdout",
     "output_type": "stream",
     "text": [
      "Requirement already satisfied: html2image in /Users/ravithej/opt/anaconda3/lib/python3.8/site-packages (2.0.1)\n",
      "Requirement already satisfied: Jinja2 in /Users/ravithej/opt/anaconda3/lib/python3.8/site-packages (2.11.2)\n",
      "Requirement already satisfied: MarkupSafe>=0.23 in /Users/ravithej/opt/anaconda3/lib/python3.8/site-packages (from Jinja2) (1.1.1)\n",
      "Requirement already satisfied: flask in /Users/ravithej/opt/anaconda3/lib/python3.8/site-packages (1.1.2)\n",
      "Requirement already satisfied: Werkzeug>=0.15 in /Users/ravithej/opt/anaconda3/lib/python3.8/site-packages (from flask) (1.0.1)\n",
      "Requirement already satisfied: itsdangerous>=0.24 in /Users/ravithej/opt/anaconda3/lib/python3.8/site-packages (from flask) (1.1.0)\n",
      "Requirement already satisfied: Jinja2>=2.10.1 in /Users/ravithej/opt/anaconda3/lib/python3.8/site-packages (from flask) (2.11.2)\n",
      "Requirement already satisfied: click>=5.1 in /Users/ravithej/opt/anaconda3/lib/python3.8/site-packages (from flask) (7.1.2)\n",
      "Requirement already satisfied: MarkupSafe>=0.23 in /Users/ravithej/opt/anaconda3/lib/python3.8/site-packages (from Jinja2>=2.10.1->flask) (1.1.1)\n",
      "Requirement already up-to-date: Pillow in /Users/ravithej/opt/anaconda3/lib/python3.8/site-packages (8.3.2)\n"
     ]
    }
   ],
   "source": [
    "!pip install html2image\n",
    "!pip install Jinja2\n",
    "!pip install flask\n",
    "!pip install --upgrade Pillow\n",
    "\n",
    "\n"
   ]
  },
  {
   "cell_type": "code",
   "execution_count": 120,
   "metadata": {},
   "outputs": [],
   "source": [
    "from html2image import Html2Image\n",
    "from jinja2 import Environment, FileSystemLoader\n",
    "import random\n",
    "from PIL import Image\n",
    "\n",
    "hti = Html2Image()"
   ]
  },
  {
   "cell_type": "markdown",
   "metadata": {},
   "source": [
    "### Define variables\n",
    "\n",
    "YaasaOfTheDay is the object used by template\n",
    "\n",
    "themes are classes from bootstrap.\n"
   ]
  },
  {
   "cell_type": "code",
   "execution_count": 121,
   "metadata": {},
   "outputs": [],
   "source": [
    "yaasaOfTheDay = {\"title\": \"అంబటి బీరకాయల\",\n",
    "\"meaning\": \"నేతిబీరకాయల్ని ‘అంబటి బీరకాయలు’, అంబలి తాగేవేళని అంబటాల్ల అని అంటార\",\n",
    "\"ety\":\"నెయ్యిలాగే అంబలి కూడా ద్రవరూప ఆహారపదార్థం. నెయ్యి మాదిరిగానే స్నిగ్ధంగా ఉంటుంది. అందుకే అదిక్కడ నెయ్యి స్థానంలోకి వచ్చింది. నీ కడుపున అంబలివడ (నీ కడుపులో అంబలి పడనీ) మొదలైన మాటలూ కూడా ఉన్నాయి.\",\n",
    "\"example\":\"ఈ రోజు అంబటి బీరకాయల పచ్చడి ఎలా చేయాలో చూద్దాము.ఊరి నుండి వచ్చేసరికి అంబటాల్ల దాటింది\",\n",
    "\"regions\":[\"తెలంగాణ\",\"రాయలసీమ\"]}\n",
    "\n",
    "lightTheme = {\"bgtheme\":\"bg-light\", \"font\":\"text-dark\", \"bgthemeContrast\":\"bg-dark\", \"fontContrast\":\"text-white\"}\n",
    "warningTheme = {\"bgtheme\":\"bg-warning\", \"font\":\"text-dark\", \"bgthemeContrast\":\"bg-dark\", \"fontContrast\":\"text-white\"}\n",
    "whiteTheme = {\"bgtheme\":\"bg-white\", \"font\":\"text-dark\", \"bgthemeContrast\":\"bg-dark\", \"fontContrast\":\"text-white\"}\n",
    "infoTheme = {\"bgtheme\":\"bg-info\", \"font\":\"text-dark\", \"bgthemeContrast\":\"bg-dark\", \"fontContrast\":\"text-white\"}\n",
    "\n",
    "themes = [lightTheme,warningTheme,whiteTheme,infoTheme ]\n",
    "\n",
    "\n"
   ]
  },
  {
   "cell_type": "markdown",
   "metadata": {},
   "source": [
    "## JinJa template library\n",
    " Template html file is in index.html. We create index.html with the help of above variables and Jinja library\n",
    "\n",
    "\n"
   ]
  },
  {
   "cell_type": "code",
   "execution_count": 135,
   "metadata": {},
   "outputs": [],
   "source": [
    "\n",
    "file_loader = FileSystemLoader('.')\n",
    "env = Environment(loader=file_loader)\n",
    "\n",
    "template = env.get_template('index.html')\n",
    "theme = random.choice(themes)\n",
    "output = template.render(yaasaOfTheDay = yaasaOfTheDay,darkTheme = theme )\n",
    "\n",
    "\n",
    "\n"
   ]
  },
  {
   "cell_type": "markdown",
   "metadata": {},
   "source": [
    "## HTI library\n",
    " We use HTI to convert above index.html to png file"
   ]
  },
  {
   "cell_type": "code",
   "execution_count": 138,
   "metadata": {},
   "outputs": [
    {
     "data": {
      "text/plain": [
       "['/Users/ravithej/Desktop/personal proj/insta_automation/blue_page_bg-light.png']"
      ]
     },
     "execution_count": 138,
     "metadata": {},
     "output_type": "execute_result"
    }
   ],
   "source": [
    "hti.screenshot(\n",
    "    html_str=output, css_file='card.css',\n",
    "    save_as='blue_page_'+theme[\"bgtheme\"]+'.png', size=(600, 600)\n",
    ")"
   ]
  },
  {
   "cell_type": "markdown",
   "metadata": {},
   "source": [
    "\n",
    "    \n",
    "## PILLOW library\n",
    " We use pillow library to resize png file to correct size"
   ]
  },
  {
   "cell_type": "code",
   "execution_count": 139,
   "metadata": {},
   "outputs": [
    {
     "name": "stdout",
     "output_type": "stream",
     "text": [
      "image created blue_page_bg-light_resized.png\n"
     ]
    }
   ],
   "source": [
    "img = Image.open('blue_page_'+theme[\"bgtheme\"]+'.png')\n",
    "new_img = img.resize((750,750))\n",
    "new_img.save('blue_page_'+theme[\"bgtheme\"]+'_resized.png', \"PNG\", quality=100)\n",
    "print(\"image created\",'blue_page_'+theme[\"bgtheme\"]+'_resized.png')"
   ]
  },
  {
   "cell_type": "code",
   "execution_count": null,
   "metadata": {},
   "outputs": [],
   "source": [
    "\n",
    "!pip install instabot\n",
    "from instabot import Bot\n",
    "bot = Bot()\n",
    "bot.login(username=\"YOUR USERNAME\", password=\"YOUR PASSWORD\")"
   ]
  },
  {
   "cell_type": "markdown",
   "metadata": {},
   "source": [
    "## create images for all themes"
   ]
  },
  {
   "cell_type": "code",
   "execution_count": 126,
   "metadata": {},
   "outputs": [
    {
     "name": "stdout",
     "output_type": "stream",
     "text": [
      "{'bgtheme': 'bg-light', 'font': 'text-dark', 'bgthemeContrast': 'bg-dark', 'fontContrast': 'text-white'}\n",
      "{'bgtheme': 'bg-warning', 'font': 'text-dark', 'bgthemeContrast': 'bg-dark', 'fontContrast': 'text-white'}\n",
      "{'bgtheme': 'bg-white', 'font': 'text-dark', 'bgthemeContrast': 'bg-dark', 'fontContrast': 'text-white'}\n",
      "{'bgtheme': 'bg-info', 'font': 'text-dark', 'bgthemeContrast': 'bg-dark', 'fontContrast': 'text-white'}\n"
     ]
    }
   ],
   "source": [
    "file_loader = FileSystemLoader('.')\n",
    "env = Environment(loader=file_loader)\n",
    "\n",
    "template = env.get_template('index.html')\n",
    "\n",
    "for theme in themes:\n",
    "    print(theme)\n",
    "    output = template.render(yaasaOfTheDay = yaasaOfTheDay,darkTheme = theme )\n",
    "\n",
    "    hti.screenshot(\n",
    "    html_str=output, css_file='card.css',\n",
    "    save_as='blue_page_'+theme[\"bgtheme\"]+'.png', size=(600, 600))\n",
    "    imageName = 'blue_page_'+theme[\"bgtheme\"]+'.png'\n",
    "    img = Image.open(imageName)\n",
    "    new_img = img.resize((750,750))\n",
    "    new_img.save('blue_page_'+theme[\"bgtheme\"]+'_resized.png', \"PNG\", quality=100)\n",
    "    "
   ]
  },
  {
   "cell_type": "code",
   "execution_count": 142,
   "metadata": {},
   "outputs": [],
   "source": [
    "img = Image.open(\"muggu.jpeg\")\n",
    "new_img = img.resize((512,512))\n",
    "new_img.save('muggu_resized.jpeg', \"JPEG\", quality=100)"
   ]
  },
  {
   "cell_type": "code",
   "execution_count": null,
   "metadata": {},
   "outputs": [],
   "source": []
  }
 ],
 "metadata": {
  "kernelspec": {
   "display_name": "Python 3",
   "language": "python",
   "name": "python3"
  },
  "language_info": {
   "codemirror_mode": {
    "name": "ipython",
    "version": 3
   },
   "file_extension": ".py",
   "mimetype": "text/x-python",
   "name": "python",
   "nbconvert_exporter": "python",
   "pygments_lexer": "ipython3",
   "version": "3.8.5"
  }
 },
 "nbformat": 4,
 "nbformat_minor": 4
}
