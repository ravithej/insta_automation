{
 "cells": [
  {
   "cell_type": "code",
   "execution_count": 119,
   "metadata": {},
   "outputs": [
    {
     "name": "stdout",
     "output_type": "stream",
     "text": [
      "Requirement already satisfied: html2image in /Users/ravithej/opt/anaconda3/lib/python3.8/site-packages (2.0.1)\n",
      "Requirement already satisfied: Jinja2 in /Users/ravithej/opt/anaconda3/lib/python3.8/site-packages (2.11.2)\n",
      "Requirement already satisfied: MarkupSafe>=0.23 in /Users/ravithej/opt/anaconda3/lib/python3.8/site-packages (from Jinja2) (1.1.1)\n",
      "Requirement already satisfied: flask in /Users/ravithej/opt/anaconda3/lib/python3.8/site-packages (1.1.2)\n",
      "Requirement already satisfied: Werkzeug>=0.15 in /Users/ravithej/opt/anaconda3/lib/python3.8/site-packages (from flask) (1.0.1)\n",
      "Requirement already satisfied: itsdangerous>=0.24 in /Users/ravithej/opt/anaconda3/lib/python3.8/site-packages (from flask) (1.1.0)\n",
      "Requirement already satisfied: Jinja2>=2.10.1 in /Users/ravithej/opt/anaconda3/lib/python3.8/site-packages (from flask) (2.11.2)\n",
      "Requirement already satisfied: click>=5.1 in /Users/ravithej/opt/anaconda3/lib/python3.8/site-packages (from flask) (7.1.2)\n",
      "Requirement already satisfied: MarkupSafe>=0.23 in /Users/ravithej/opt/anaconda3/lib/python3.8/site-packages (from Jinja2>=2.10.1->flask) (1.1.1)\n",
      "Requirement already up-to-date: Pillow in /Users/ravithej/opt/anaconda3/lib/python3.8/site-packages (8.3.2)\n"
     ]
    }
   ],
   "source": [
    "!pip install html2image\n",
    "!pip install Jinja2\n",
    "!pip install flask\n",
    "!pip install --upgrade Pillow\n",
    "\n",
    "\n"
   ]
  },
  {
   "cell_type": "code",
   "execution_count": 120,
   "metadata": {},
   "outputs": [],
   "source": [
    "from html2image import Html2Image\n",
    "from jinja2 import Environment, FileSystemLoader\n",
    "import random\n",
    "from PIL import Image\n",
    "\n",
    "hti = Html2Image()"
   ]
  },
  {
   "cell_type": "markdown",
   "metadata": {},
   "source": [
    "### Define variables\n",
    "\n",
    "YaasaOfTheDay is the object used by template\n",
    "\n",
    "themes are classes from bootstrap.\n"
   ]
  },
  {
   "cell_type": "code",
   "execution_count": 121,
   "metadata": {},
   "outputs": [],
   "source": [
    "yaasaOfTheDay = {\"title\": \"అంబటి బీరకాయల\",\n",
    "\"meaning\": \"నేతిబీరకాయల్ని ‘అంబటి బీరకాయలు’, అంబలి తాగేవేళని అంబటాల్ల అని అంటార\",\n",
    "\"ety\":\"నెయ్యిలాగే అంబలి కూడా ద్రవరూప ఆహారపదార్థం. నెయ్యి మాదిరిగానే స్నిగ్ధంగా ఉంటుంది. అందుకే అదిక్కడ నెయ్యి స్థానంలోకి వచ్చింది. నీ కడుపున అంబలివడ (నీ కడుపులో అంబలి పడనీ) మొదలైన మాటలూ కూడా ఉన్నాయి.\",\n",
    "\"example\":\"ఈ రోజు అంబటి బీరకాయల పచ్చడి ఎలా చేయాలో చూద్దాము.ఊరి నుండి వచ్చేసరికి అంబటాల్ల దాటింది\",\n",
    "\"regions\":[\"తెలంగాణ\",\"రాయలసీమ\"]}\n",
    "\n",
    "lightTheme = {\"bgtheme\":\"bg-light\", \"font\":\"text-dark\", \"bgthemeContrast\":\"bg-dark\", \"fontContrast\":\"text-white\"}\n",
    "warningTheme = {\"bgtheme\":\"bg-warning\", \"font\":\"text-dark\", \"bgthemeContrast\":\"bg-dark\", \"fontContrast\":\"text-white\"}\n",
    "whiteTheme = {\"bgtheme\":\"bg-white\", \"font\":\"text-dark\", \"bgthemeContrast\":\"bg-dark\", \"fontContrast\":\"text-white\"}\n",
    "infoTheme = {\"bgtheme\":\"bg-info\", \"font\":\"text-dark\", \"bgthemeContrast\":\"bg-dark\", \"fontContrast\":\"text-white\"}\n",
    "\n",
    "themes = [lightTheme,warningTheme,whiteTheme,infoTheme ]\n",
    "\n",
    "\n"
   ]
  },
  {
   "cell_type": "markdown",
   "metadata": {},
   "source": [
    "## JinJa template library\n",
    " Template html file is in index.html. We create index.html with the help of above variables and Jinja library\n",
    "\n",
    "\n"
   ]
  },
  {
   "cell_type": "code",
   "execution_count": 145,
   "metadata": {},
   "outputs": [
    {
     "name": "stdout",
     "output_type": "stream",
     "text": [
      "<!doctype html>\n",
      "<html lang=\"en\">\n",
      "\n",
      "<head>\n",
      "  <meta charset=\"utf-8\">\n",
      "  <meta name=\"viewport\" content=\"width=device-width, initial-scale=1\">\n",
      "<link href=\"https://fonts.googleapis.com/css2?family=Ravi+Prakash&display=swap\" rel=\"stylesheet\">  <link href=\"https://cdn.jsdelivr.net/npm/bootstrap@5.1.0/dist/css/bootstrap.min.css\" rel=\"stylesheet\" integrity=\"sha384-KyZXEAg3QhqLMpG8r+8fhAXLRk2vvoC2f3B09zVXn8CA5QIVfZOJ3BCsw2P0p/We\" crossorigin=\"anonymous\">\n",
      "  <link href=\"https://pro.fontawesome.com/releases/v5.10.0/css/all.css\" rel=\"stylesheet\" crossorigin=\"anonymous\">\n",
      "  <link href=\"card/card.css\" rel=\"stylesheet\">\n",
      "\n",
      "  <title>Yaasalu</title>\n",
      "</head>\n",
      "\n",
      "<body>\n",
      "  <div id=\"card\"><div class=\"card text-center w-75 bg-warning text-dark mx-auto\" Style=\"margin-top:10px\">\n",
      "  <div class=\"card-header\">\n",
      "    <h5 class=\"card-title\" style=\"font-size: 25px;font-family: 'Ravi Prakash', cursive;\">అంబటి బీరకాయల</h5>\n",
      "  </div>\n",
      "  <div class=\"card-body\">\n",
      "\n",
      "    <div class=\"Meaning\">\n",
      "      <p class=\"card-text\"> <strong style=\"font-size: 20px;font-family: 'Ravi Prakash', cursive;\">అర్థం: </strong>నేతిబీరకాయల్ని ‘అంబటి బీరకాయలు’, అంబలి తాగేవేళని అంబటాల్ల అని అంటార</p>\n",
      "    </div>\n",
      "    <hr class=\"my-12\" />\n",
      "\n",
      "    <div class=\"ety\">\n",
      "      <p class=\"card-text\"><strong style=\"font-size: 20px;font-family: 'Ravi Prakash', cursive;\">శబ్దవ్యుత్పత్తి శాస్త్రం: </strong>నెయ్యిలాగే అంబలి కూడా ద్రవరూప ఆహారపదార్థం. నెయ్యి మాదిరిగానే స్నిగ్ధంగా ఉంటుంది. అందుకే అదిక్కడ నెయ్యి స్థానంలోకి వచ్చింది. నీ కడుపున అంబలివడ (నీ కడుపులో అంబలి పడనీ) మొదలైన మాటలూ కూడా ఉన్నాయి.</p>\n",
      "    </div>\n",
      "    <hr class=\"my-12\" />\n",
      "\n",
      "    <div class=\"example\">\n",
      "      <p class=\"card-text\"><strong style=\"font-size: 20px;font-family: 'Ravi Prakash', cursive;\">ఉదాహరన: </strong> ఈ రోజు అంబటి బీరకాయల పచ్చడి ఎలా చేయాలో చూద్దాము.ఊరి నుండి వచ్చేసరికి అంబటాల్ల దాటింది</p>\n",
      "    </div>\n",
      "    <hr class=\"my-12\" />\n",
      "\n",
      "    <div class=\"regions\">\n",
      "      <p class=\"card-text\" style=\"display: inline-block\"><strong style=\"font-size: 20px;font-family: 'Ravi Prakash', cursive;\">ప్రాంతీయ వాడుక: </strong></p>\n",
      "      <span class=\"badge rounded-pill bg-dark text-white\">తెలంగాణ</span>\n",
      "      <span class=\"badge rounded-pill bg-dark text-white\">రాయలసీమ</span>\n",
      "      \n",
      "\n",
      "    </div>\n",
      "\n",
      "    <div class=\"contributor\" style=\"text-align:right;font-size: 20px;font-family: 'Ravi Prakash', cursive;\">సహకారి: <a href=\"/user/sai_103986966762097156631\">sai</a>, March 19</div>\n",
      "\n",
      "  </div>\n",
      "  <div class=\"card-footer text-muted\">\n",
      "    <div class=\"contributor\" style=\"text-align:right\">Source: <a href=\"www.yaasalu.com\">www.yaasalu.com</div>\n",
      "  </div>\n",
      "</div></div>\n",
      "  <script src=\"https://code.jquery.com/jquery-3.6.0.min.js\" integrity=\"sha256-/xUj+3OJU5yExlq6GSYGSHk7tPXikynS7ogEvDej/m4=\" crossorigin=\"anonymous\"></script>\n",
      "  <script src=\"https://cdnjs.cloudflare.com/ajax/libs/popper.js/1.12.9/umd/popper.min.js\" crossorigin=\"anonymous\"></script>\n",
      "  <script src=\"https://cdn.jsdelivr.net/npm/bootstrap@5.1.0/dist/js/bootstrap.bundle.min.js\" integrity=\"sha384-U1DAWAznBHeqEIlVSCgzq+c9gqGAJn5c/t99JyeKa9xxaYpSvHU5awsuZVVFIhvj\" crossorigin=\"anonymous\"></script>\n",
      "  </body>\n",
      "\n",
      "  </html>\n"
     ]
    }
   ],
   "source": [
    "\n",
    "file_loader = FileSystemLoader('.')\n",
    "env = Environment(loader=file_loader)\n",
    "\n",
    "template = env.get_template('card.html')\n",
    "theme = random.choice(themes)\n",
    "output = template.render(yaasaOfTheDay = yaasaOfTheDay,darkTheme = theme )\n",
    "\n",
    "template = env.get_template('index.html')\n",
    "index = template.render(card = output )\n",
    "\n",
    "print(index)\n",
    "\n",
    "\n",
    "\n"
   ]
  },
  {
   "cell_type": "markdown",
   "metadata": {},
   "source": [
    "## HTI library\n",
    " We use HTI to convert above index.html to png file"
   ]
  },
  {
   "cell_type": "code",
   "execution_count": 138,
   "metadata": {},
   "outputs": [
    {
     "data": {
      "text/plain": [
       "['/Users/ravithej/Desktop/personal proj/insta_automation/blue_page_bg-light.png']"
      ]
     },
     "execution_count": 138,
     "metadata": {},
     "output_type": "execute_result"
    }
   ],
   "source": [
    "hti.screenshot(\n",
    "    html_str=output, css_file='card.css',\n",
    "    save_as='blue_page_'+theme[\"bgtheme\"]+'.png', size=(600, 600)\n",
    ")"
   ]
  },
  {
   "cell_type": "markdown",
   "metadata": {},
   "source": [
    "\n",
    "    \n",
    "## PILLOW library\n",
    " We use pillow library to resize png file to correct size"
   ]
  },
  {
   "cell_type": "code",
   "execution_count": 139,
   "metadata": {},
   "outputs": [
    {
     "name": "stdout",
     "output_type": "stream",
     "text": [
      "image created blue_page_bg-light_resized.png\n"
     ]
    }
   ],
   "source": [
    "img = Image.open('blue_page_'+theme[\"bgtheme\"]+'.png')\n",
    "new_img = img.resize((750,750))\n",
    "new_img.save('blue_page_'+theme[\"bgtheme\"]+'_resized.png', \"PNG\", quality=100)\n",
    "print(\"image created\",'blue_page_'+theme[\"bgtheme\"]+'_resized.png')"
   ]
  },
  {
   "cell_type": "code",
   "execution_count": null,
   "metadata": {},
   "outputs": [],
   "source": [
    "\n",
    "!pip install instabot\n",
    "from instabot import Bot\n",
    "bot = Bot()\n",
    "bot.login(username=\"YOUR USERNAME\", password=\"YOUR PASSWORD\")"
   ]
  },
  {
   "cell_type": "markdown",
   "metadata": {},
   "source": [
    "## create images for all themes"
   ]
  },
  {
   "cell_type": "code",
   "execution_count": 126,
   "metadata": {},
   "outputs": [
    {
     "name": "stdout",
     "output_type": "stream",
     "text": [
      "{'bgtheme': 'bg-light', 'font': 'text-dark', 'bgthemeContrast': 'bg-dark', 'fontContrast': 'text-white'}\n",
      "{'bgtheme': 'bg-warning', 'font': 'text-dark', 'bgthemeContrast': 'bg-dark', 'fontContrast': 'text-white'}\n",
      "{'bgtheme': 'bg-white', 'font': 'text-dark', 'bgthemeContrast': 'bg-dark', 'fontContrast': 'text-white'}\n",
      "{'bgtheme': 'bg-info', 'font': 'text-dark', 'bgthemeContrast': 'bg-dark', 'fontContrast': 'text-white'}\n"
     ]
    }
   ],
   "source": [
    "file_loader = FileSystemLoader('.')\n",
    "env = Environment(loader=file_loader)\n",
    "\n",
    "template = env.get_template('index.html')\n",
    "\n",
    "for theme in themes:\n",
    "    print(theme)\n",
    "    output = template.render(yaasaOfTheDay = yaasaOfTheDay,darkTheme = theme )\n",
    "\n",
    "    hti.screenshot(\n",
    "    html_str=output, css_file='card.css',\n",
    "    save_as='blue_page_'+theme[\"bgtheme\"]+'.png', size=(600, 600))\n",
    "    imageName = 'blue_page_'+theme[\"bgtheme\"]+'.png'\n",
    "    img = Image.open(imageName)\n",
    "    new_img = img.resize((750,750))\n",
    "    new_img.save('blue_page_'+theme[\"bgtheme\"]+'_resized.png', \"PNG\", quality=100)\n",
    "    "
   ]
  },
  {
   "cell_type": "code",
   "execution_count": null,
   "metadata": {},
   "outputs": [],
   "source": []
  }
 ],
 "metadata": {
  "kernelspec": {
   "display_name": "Python 3",
   "language": "python",
   "name": "python3"
  },
  "language_info": {
   "codemirror_mode": {
    "name": "ipython",
    "version": 3
   },
   "file_extension": ".py",
   "mimetype": "text/x-python",
   "name": "python",
   "nbconvert_exporter": "python",
   "pygments_lexer": "ipython3",
   "version": "3.8.5"
  }
 },
 "nbformat": 4,
 "nbformat_minor": 4
}
